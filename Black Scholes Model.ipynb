{
 "cells": [
  {
   "cell_type": "code",
   "execution_count": 1,
   "id": "f890bc04-1b2c-4edc-8354-21966761986b",
   "metadata": {},
   "outputs": [],
   "source": [
    "# Import necessary libraries\n",
    "\n",
    "import numpy as np\n",
    "from scipy.stats import norm"
   ]
  },
  {
   "cell_type": "code",
   "execution_count": 22,
   "id": "6392cb9d-9739-4456-a37f-765614a506d0",
   "metadata": {},
   "outputs": [],
   "source": [
    "# S = Stock price\n",
    "# K = Strike Price\n",
    "# T = Time to Maturity\n",
    "# r = risk free intrest rate\n",
    "# sigma = volitaltiy of the stock\n",
    "\n",
    "\n",
    "def black_scholes_call(S,K,T,r,sigma):\n",
    "    d1 =(np.log(S/K) + (r + 0.5 * sigma**2)*T)/(sigma * np.sqrt(T))\n",
    "    d2 = d1- sigma * np.sqrt(T)\n",
    "    call_option = S * norm.cdf(d1) - K * np.exp(-r * T) * norm.cdf(d2)\n",
    "    return call_option"
   ]
  },
  {
   "cell_type": "code",
   "execution_count": 23,
   "id": "cc7e800d-6c6f-441f-9c13-2395e70b6f52",
   "metadata": {},
   "outputs": [],
   "source": [
    "def black_scholes_put(S,K,T,r,sigma):\n",
    "     d1 =(np.log(S/K) + (r + 0.5 * sigma**2)*T)/(sigma * np.sqrt(T))\n",
    "     d2 = d1- sigma * np.sqrt(T)\n",
    "     put_option = K * np.exp(-r * T) * norm.cdf(-d2) - S * norm.cdf(-d1)\n",
    "     return put_option\n"
   ]
  },
  {
   "cell_type": "code",
   "execution_count": 24,
   "id": "86dee38d-5fa2-4317-a22b-2dd6a179fdec",
   "metadata": {},
   "outputs": [
    {
     "data": {
      "text/plain": [
       "6.203136017267752"
      ]
     },
     "execution_count": 24,
     "metadata": {},
     "output_type": "execute_result"
    }
   ],
   "source": [
    "S = 100\n",
    "K = 95\n",
    "T = 3/12 # 1 year = 12 month\n",
    "r = 0.04  # 4 percent\n",
    "sigma = 0.10 # 10 percent\n",
    "\n",
    "black_scholes_call(S = 100,K= 95,T=3/12,r=0.04,sigma=0.10)\n",
    "\n",
    "max (K - ST, 0) # Put - right to sell"
   ]
  },
  {
   "cell_type": "code",
   "execution_count": 25,
   "id": "6e9a0bc6-e1f8-46ec-bc5e-1067e5f871d5",
   "metadata": {},
   "outputs": [
    {
     "data": {
      "text/plain": [
       "0.257870223438724"
      ]
     },
     "execution_count": 25,
     "metadata": {},
     "output_type": "execute_result"
    }
   ],
   "source": [
    "S = 100\n",
    "K = 95\n",
    "T = 3/12 # 1 year = 12 month\n",
    "r = 0.04  # 4 percent\n",
    "sigma = 0.10 # 10 percent\n",
    "\n",
    "balck_scholes_put(S,K,T,r,sigma)"
   ]
  },
  {
   "cell_type": "code",
   "execution_count": 26,
   "id": "52a9eb0a-09b1-4962-b716-f7f46ee255d7",
   "metadata": {},
   "outputs": [
    {
     "data": {
      "text/plain": [
       "6.203136017267752"
      ]
     },
     "execution_count": 26,
     "metadata": {},
     "output_type": "execute_result"
    }
   ],
   "source": [
    "black_scholes_call(S = 100,K= 95,T=3/12,r=0.04,sigma=0.10)"
   ]
  },
  {
   "cell_type": "code",
   "execution_count": 27,
   "id": "891df17f-f020-4037-803b-56b311c114a9",
   "metadata": {},
   "outputs": [
    {
     "data": {
      "text/plain": [
       "0.257870223438724"
      ]
     },
     "execution_count": 27,
     "metadata": {},
     "output_type": "execute_result"
    }
   ],
   "source": [
    "balck_scholes_put(S = 100,K= 95,T=3/12,r=0.04,sigma=0.10)"
   ]
  },
  {
   "cell_type": "code",
   "execution_count": null,
   "id": "4b02ac61-8287-48b5-9a3b-312033479dab",
   "metadata": {},
   "outputs": [],
   "source": []
  }
 ],
 "metadata": {
  "kernelspec": {
   "display_name": "Python 3 (ipykernel)",
   "language": "python",
   "name": "python3"
  },
  "language_info": {
   "codemirror_mode": {
    "name": "ipython",
    "version": 3
   },
   "file_extension": ".py",
   "mimetype": "text/x-python",
   "name": "python",
   "nbconvert_exporter": "python",
   "pygments_lexer": "ipython3",
   "version": "3.12.7"
  }
 },
 "nbformat": 4,
 "nbformat_minor": 5
}
